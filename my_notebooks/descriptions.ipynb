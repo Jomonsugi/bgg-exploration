{
 "cells": [
  {
   "cell_type": "code",
   "execution_count": 63,
   "metadata": {
    "collapsed": true
   },
   "outputs": [],
   "source": [
    "import pickle\n",
    "from sklearn.feature_extraction.text import TfidfVectorizer\n",
    "from sklearn.metrics.pairwise import linear_kernel\n",
    "import numpy as np"
   ]
  },
  {
   "cell_type": "code",
   "execution_count": 77,
   "metadata": {},
   "outputs": [],
   "source": [
    "with open('data/doc_lst.pkl', 'rb') as fp:\n",
    "    processed = pickle.load(fp)\n",
    "with open('data/game_ids_170516.pkl','rb') as fp:\n",
    "    id_game_lst = pickle.load(fp)\n",
    "index_game_dict = {x[2] : x[1] for x in id_game_lst[:-1]}\n",
    "id_game_dict = {x[0] : x[1] for x in id_game_lst[:-1]}"
   ]
  },
  {
   "cell_type": "code",
   "execution_count": 92,
   "metadata": {},
   "outputs": [],
   "source": [
    "# At the moment I have an n-gram range of 1-3. It is possible that phrases would be more important for clustering\n",
    "# descriptions."
   ]
  },
  {
   "cell_type": "code",
   "execution_count": 52,
   "metadata": {},
   "outputs": [],
   "source": [
    "tfidfvect = TfidfVectorizer(ngram_range=(1,3))\n",
    "tfidf_vectorized = tfidfvect.fit_transform(processed)\n",
    "feature_names = tfidfvect.get_feature_names()"
   ]
  },
  {
   "cell_type": "code",
   "execution_count": 53,
   "metadata": {},
   "outputs": [
    {
     "data": {
      "text/plain": [
       "228776"
      ]
     },
     "execution_count": 53,
     "metadata": {},
     "output_type": "execute_result"
    }
   ],
   "source": [
    "len(feature_names)"
   ]
  },
  {
   "cell_type": "code",
   "execution_count": 54,
   "metadata": {},
   "outputs": [
    {
     "data": {
      "text/plain": [
       "<1000x228776 sparse matrix of type '<class 'numpy.float64'>'\n",
       "\twith 339725 stored elements in Compressed Sparse Row format>"
      ]
     },
     "execution_count": 54,
     "metadata": {},
     "output_type": "execute_result"
    }
   ],
   "source": [
    "tfidf_vectorized"
   ]
  },
  {
   "cell_type": "code",
   "execution_count": 55,
   "metadata": {},
   "outputs": [],
   "source": [
    "dense = tfidf_vectorized.todense()\n",
    "#game according to current game_id list: dense[game_number]\n",
    "game = dense[0].tolist()[0]\n",
    "phrase_scores = [pair for pair in zip(range(0, len(game)), game) if pair[1] != 0]"
   ]
  },
  {
   "cell_type": "code",
   "execution_count": 56,
   "metadata": {},
   "outputs": [
    {
     "name": "stdout",
     "output_type": "stream",
     "text": [
      "disease              0.27139277202823464\n",
      "cube                 0.12122869638787455\n",
      "month                0.10299464709236184\n",
      "disease cube         0.09980146148484903\n",
      "card                 0.0979486823662998\n",
      "cube board           0.09419333911726246\n",
      "research             0.09283799132524059\n",
      "research station     0.09021431297417912\n",
      "treat                0.09021431297417912\n",
      "treat disease        0.09021431297417912\n",
      "pandemic             0.08460619060659255\n",
      "travel world         0.08460619060659255\n",
      "cure                 0.08247408143559255\n",
      "travel               0.08056895385537426\n",
      "outbreak             0.07899806823900599\n",
      "component            0.07478648761373269\n",
      "station              0.06602054972558391\n",
      "card place           0.06329978441425274\n",
      "chance               0.055280122531285066\n",
      "campaign             0.054474185940317686\n"
     ]
    }
   ],
   "source": [
    "sorted_phrase_scores = sorted(phrase_scores, key=lambda t: t[1] * -1)\n",
    "for phrase, score in [(feature_names[word_id], score) for (word_id, score) in sorted_phrase_scores][:20]:\n",
    "    print('{0: <20} {1}'.format(phrase, score))"
   ]
  },
  {
   "cell_type": "code",
   "execution_count": 61,
   "metadata": {},
   "outputs": [],
   "source": [
    "cosine_similarities = linear_kernel(tfidf_vectorized, tfidf_vectorized)"
   ]
  },
  {
   "cell_type": "code",
   "execution_count": 98,
   "metadata": {},
   "outputs": [
    {
     "name": "stdout",
     "output_type": "stream",
     "text": [
      "pandemic-legacy-season-1\n",
      "mage-knight-board-game\n",
      "falling-sky-gallic-revolt-against-caesar\n",
      "starship-catan\n",
      "terraforming-mars\n",
      "first-class\n",
      "omen-reign-war\n",
      "keyflower\n",
      "navegador\n",
      "patchistory\n",
      "klask\n"
     ]
    }
   ],
   "source": [
    "# for any given game indicated as the row, return games based on sorted cosine similarities \n",
    "game = np.argsort(cosine_similarities[1,:])[::-1]\n",
    "for i in game[0:11]:\n",
    "    print(index_game_dict.get(i))"
   ]
  },
  {
   "cell_type": "code",
   "execution_count": null,
   "metadata": {
    "collapsed": true
   },
   "outputs": [],
   "source": []
  }
 ],
 "metadata": {
  "kernelspec": {
   "display_name": "Python 3",
   "language": "python",
   "name": "python3"
  },
  "language_info": {
   "codemirror_mode": {
    "name": "ipython",
    "version": 3
   },
   "file_extension": ".py",
   "mimetype": "text/x-python",
   "name": "python",
   "nbconvert_exporter": "python",
   "pygments_lexer": "ipython3",
   "version": "3.6.1"
  }
 },
 "nbformat": 4,
 "nbformat_minor": 2
}
