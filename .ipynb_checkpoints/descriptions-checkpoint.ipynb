{
 "cells": [
  {
   "cell_type": "code",
   "execution_count": 63,
   "metadata": {
    "collapsed": true
   },
   "outputs": [],
   "source": [
    "import pickle\n",
    "from sklearn.feature_extraction.text import TfidfVectorizer\n",
    "from sklearn.metrics.pairwise import linear_kernel\n",
    "import numpy as np"
   ]
  },
  {
   "cell_type": "code",
   "execution_count": 6,
   "metadata": {},
   "outputs": [],
   "source": [
    "with open('data/doc_lst.pkl', 'rb') as fp:\n",
    "    processed = pickle.load(fp)"
   ]
  },
  {
   "cell_type": "code",
   "execution_count": null,
   "metadata": {
    "collapsed": true
   },
   "outputs": [],
   "source": [
    "At the moment I have an n-gram range of 1-3. It is possible that phrases would be more important for clustering\n",
    "descriptions."
   ]
  },
  {
   "cell_type": "code",
   "execution_count": 52,
   "metadata": {},
   "outputs": [],
   "source": [
    "tfidfvect = TfidfVectorizer(ngram_range=(1,3))\n",
    "tfidf_vectorized = tfidfvect.fit_transform(processed)\n",
    "feature_names = tfidfvect.get_feature_names()"
   ]
  },
  {
   "cell_type": "code",
   "execution_count": 53,
   "metadata": {},
   "outputs": [
    {
     "data": {
      "text/plain": [
       "228776"
      ]
     },
     "execution_count": 53,
     "metadata": {},
     "output_type": "execute_result"
    }
   ],
   "source": [
    "len(feature_names)"
   ]
  },
  {
   "cell_type": "code",
   "execution_count": 54,
   "metadata": {},
   "outputs": [
    {
     "data": {
      "text/plain": [
       "<1000x228776 sparse matrix of type '<class 'numpy.float64'>'\n",
       "\twith 339725 stored elements in Compressed Sparse Row format>"
      ]
     },
     "execution_count": 54,
     "metadata": {},
     "output_type": "execute_result"
    }
   ],
   "source": [
    "tfidf_vectorized"
   ]
  },
  {
   "cell_type": "code",
   "execution_count": 55,
   "metadata": {},
   "outputs": [],
   "source": [
    "dense = tfidf_vectorized.todense()\n",
    "#game according to current game_id list: dense[game_number]\n",
    "game = dense[0].tolist()[0]\n",
    "phrase_scores = [pair for pair in zip(range(0, len(game)), game) if pair[1] != 0]"
   ]
  },
  {
   "cell_type": "code",
   "execution_count": 56,
   "metadata": {},
   "outputs": [
    {
     "name": "stdout",
     "output_type": "stream",
     "text": [
      "disease              0.27139277202823464\n",
      "cube                 0.12122869638787455\n",
      "month                0.10299464709236184\n",
      "disease cube         0.09980146148484903\n",
      "card                 0.0979486823662998\n",
      "cube board           0.09419333911726246\n",
      "research             0.09283799132524059\n",
      "research station     0.09021431297417912\n",
      "treat                0.09021431297417912\n",
      "treat disease        0.09021431297417912\n",
      "pandemic             0.08460619060659255\n",
      "travel world         0.08460619060659255\n",
      "cure                 0.08247408143559255\n",
      "travel               0.08056895385537426\n",
      "outbreak             0.07899806823900599\n",
      "component            0.07478648761373269\n",
      "station              0.06602054972558391\n",
      "card place           0.06329978441425274\n",
      "chance               0.055280122531285066\n",
      "campaign             0.054474185940317686\n"
     ]
    }
   ],
   "source": [
    "sorted_phrase_scores = sorted(phrase_scores, key=lambda t: t[1] * -1)\n",
    "for phrase, score in [(feature_names[word_id], score) for (word_id, score) in sorted_phrase_scores][:20]:\n",
    "    print('{0: <20} {1}'.format(phrase, score))"
   ]
  },
  {
   "cell_type": "code",
   "execution_count": 61,
   "metadata": {},
   "outputs": [],
   "source": [
    "cosine_similarities = linear_kernel(tfidf_vectorized, tfidf_vectorized)"
   ]
  },
  {
   "cell_type": "code",
   "execution_count": 65,
   "metadata": {},
   "outputs": [
    {
     "name": "stdout",
     "output_type": "stream",
     "text": [
      "[  1  15 827 730   8 512 859  36 137 665 748 245 372 471 185 480 779  76\n",
      " 765  38 415 104 518 721 129 705 159 635 719 414 479 698 949 958 303  77\n",
      " 401 148 233 975 662  71 761  79 114 277 806 574 170 804 603  56 848 485\n",
      " 390 127  74 266  11 309 762 736  52  88 237  57 950 167 343 210 778 365\n",
      " 673 411 658 273 854 898 333 932 288  43  28 610 817 529 921 632 661 875\n",
      "  19 183 670 563 442 559 572  45 911 525   4 857 685 308  80 368 316  93\n",
      " 702 165 142  27 212 957 177 136 492 669 577 385 850 787 648 887 873 902\n",
      " 984 636 504 193 380 598 218 451 633 328 227 643 122 407   6 329 666  81\n",
      " 769 459 446 573 634 138   5 109  34 739 558  62 412 388 462 113 418 307\n",
      " 569 348 865 514  69 740 869  46 107 629 126 473 152 964 251 133 693 450\n",
      " 825 743 435 300 505 908 270 821 141 534 691 802  90 241  75  37 314 162\n",
      " 645 404   9 724 896 823 377  83 422  29 832 824 851 548 760  26 652  85\n",
      " 430 118  63 120  73 526 234 242 494 981 874 522 945 130  82 846 757 711\n",
      " 916 215  16  21 432  47 931 842 259 421 780 455 322 313 513 710 586 783\n",
      " 678 777 239 592 858 624 116 849 654 681 852 901 750 576 663 830  91 728\n",
      "   7 774 951 267 449 582 707 144 190 891 238 284 810 168  35 339 982  58\n",
      " 657 229 335  40 312 608 853 182 500 289 904 894 323 382  66  13 653  41\n",
      "  25 226 211  60   0 319 912 140 197 102 501 917 549 986 738 132 297 408\n",
      " 441 915 879 419 195 205 974 482 772 265 626   2 112 713 871 655 269 235\n",
      "  53 701 961 725 752 864 900 583 457 357  78 477 376 344 231 872 302 809\n",
      " 602 413 786  10 487 397 962 726 295 261 646 436 379 406 151 506 349 296\n",
      " 929 139 236 766  44 903 262 342 125 990 800 954 232 201 403 870 905 156\n",
      " 631  32 425 966 737  72 764  54 150 461 493 784 496 427 897 135 906 409\n",
      " 618 363 160 570 410 191 398 240 326 486 995 106 263 835 469  87 843 224\n",
      " 108 332 203 516 541 991 815 882 495 687 256 557 428  94 585 198 153 938\n",
      " 345 614 244 732 735 279 351 443 383 337 301 759 599 171 880 378 294 392\n",
      " 286 530 274 604 992  67 510 792 619 796 588 593 868 722 402 605 396 230\n",
      " 103 996 454 934 886 744 751 374 939 758 338 773 781 799 252  33  12 250\n",
      " 453 545 384 694 839 811 225 795 649 989 387 429 373  50 644 913 885 350\n",
      " 715 826 219 444 627 281 321 181 860 956 877 458 813 375 283 292 355 720\n",
      "  23 656 640 844   3 855 940 426 794 972 354 121 330 511 318 275 659 247\n",
      " 282 587 169 606 642 341 532 220 884 317 155 734 924 692 490 838 535 466\n",
      " 946 647 544 630 361 660 476 481 523 258 123 272 664 745 862  92 325 638\n",
      " 488 613 381 834 157 189 264 708 617 754 367 948 753 440 228 970 625  65\n",
      " 131 507 359  61 812 370 533 484 709 221 271 561  89 923 920 565 278 612\n",
      " 173 790 456 346 863 560 291 584 712  24 216 207 677 845 204 704 716 567\n",
      " 395 399  96 688 699 389 965  99 209 143 866 927 856 695 686 550 941 861\n",
      "  39 280 497 437 115 539 727 651  95 214 128 147 134 566 889 668 260 609\n",
      " 878 671 508 178 937 101  42 801 706 888 628 807  31 580 836 223 268 362\n",
      " 188 276 785 926 675  68 290 837 253 521 353 814 978 356 562 680 310 729\n",
      " 452 394 935 899 243 928 637  18 881 474 553 163 100 623 674 324 696  17\n",
      " 176 213 841 746 788 816 327 770 755 847 952 546 650 417 498 515 166 371\n",
      " 202 747 914 968 554 255  97 180 293 682 933 172 340 540 285 607 463 352\n",
      " 763 999 105 822 536 465 334  70 819 955  48 145 600 601 433 756 590 206\n",
      " 960 983 524  49 893 818 527 519 575 890 124 366 315 420 405 543 468 542\n",
      " 953 491 689 925  86 503 538 918 611 438 287 793  59 942 358 595 249 489\n",
      " 895 993 460 771 424 697 472 184  98 797 589 117 616 298 517 820 311 684\n",
      " 676 175 581 154 564 111 723 391 447 976 208 782 537 547 994 364 217 331\n",
      " 883 146 478  22 192 499 775  14 742 299 556 828 731 621 119 959 571 776\n",
      " 393 936 831 977 683 922 509 305 360 963 733 248 568 551 639 741 416 199\n",
      " 502 805 110 988 767 620 717 808 187 254 703 967 439 434 306 867 997 555\n",
      " 840 336  51 552 910 158 714 400 578 622 791 196 257 597 672 531 690 985\n",
      " 149 304 973 615 179 667 591 798 829  64 464 892 320 718 944 947 194 423\n",
      " 470 445 579  30 369 700 919 789 347 596 528 174 483 161 909 386 969 594\n",
      " 768  55 971 164 200 186 246 475 749 431  20 448 998 979 679 943 987 467\n",
      " 980 803 876 907 222 641 833 520  84 930]\n"
     ]
    }
   ],
   "source": [
    "game = np.argsort(cosine_similarities[1,:])[::-1]"
   ]
  },
  {
   "cell_type": "code",
   "execution_count": null,
   "metadata": {
    "collapsed": true
   },
   "outputs": [],
   "source": []
  }
 ],
 "metadata": {
  "kernelspec": {
   "display_name": "Python 3",
   "language": "python",
   "name": "python3"
  },
  "language_info": {
   "codemirror_mode": {
    "name": "ipython",
    "version": 3
   },
   "file_extension": ".py",
   "mimetype": "text/x-python",
   "name": "python",
   "nbconvert_exporter": "python",
   "pygments_lexer": "ipython3",
   "version": "3.6.1"
  }
 },
 "nbformat": 4,
 "nbformat_minor": 2
}
